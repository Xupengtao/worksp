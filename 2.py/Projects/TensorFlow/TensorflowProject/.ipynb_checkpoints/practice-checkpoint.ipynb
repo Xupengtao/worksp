{
 "cells": [
  {
   "cell_type": "code",
   "execution_count": 1,
   "metadata": {},
   "outputs": [
    {
     "name": "stderr",
     "output_type": "stream",
     "text": [
      "/home/shuzhilian/anaconda3/envs/mask_rcnn/lib/python3.5/site-packages/h5py/__init__.py:36: FutureWarning: Conversion of the second argument of issubdtype from `float` to `np.floating` is deprecated. In future, it will be treated as `np.float64 == np.dtype(float).type`.\n",
      "  from ._conv import register_converters as _register_converters\n"
     ]
    }
   ],
   "source": [
    "import tensorflow as tf\n",
    "import numpy as np"
   ]
  },
  {
   "cell_type": "code",
   "execution_count": 2,
   "metadata": {},
   "outputs": [
    {
     "name": "stdout",
     "output_type": "stream",
     "text": [
      "第0步mse损失为：34.815853      w_1为 0.014595 ,w_2为 -0.022581 , b为 -0.149079\n",
      "\n",
      "第1000步mse损失为：0.110018      w_1为 1.988751 ,w_2为 2.937801 , b为 3.667305\n",
      "\n",
      "第2000步mse损失为：0.001972      w_1为 1.999900 ,w_2为 2.997291 , b为 3.956035\n",
      "\n",
      "第3000步mse损失为：0.000136      w_1为 1.999974 ,w_2为 2.999728 , b为 3.988343\n",
      "\n",
      "第4000步mse损失为：0.000027      w_1为 1.999966 ,w_2为 2.999909 , b为 3.994871\n",
      "\n",
      "第5000步mse损失为：0.000010      w_1为 2.000003 ,w_2为 2.999956 , b为 3.996884\n",
      "\n",
      "第6000步mse损失为：0.000005      w_1为 2.000006 ,w_2为 2.999956 , b为 3.997694\n",
      "\n",
      "第7000步mse损失为：0.000004      w_1为 2.000006 ,w_2为 2.999956 , b为 3.998065\n",
      "\n",
      "第8000步mse损失为：0.000003      w_1为 2.000006 ,w_2为 2.999956 , b为 3.998303\n",
      "\n",
      "第9000步mse损失为：0.000003      w_1为 2.000006 ,w_2为 2.999956 , b为 3.998372\n",
      "\n",
      "2*2 + 3*4 + 4 = 19.998207\n"
     ]
    }
   ],
   "source": [
    "# 定义输入\n",
    "input_ = tf.placeholder(shape=(None, 2), dtype=tf.float32, name='input')\n",
    "y_ = tf.placeholder(shape=(None, 1), dtype=tf.float32, name='output')\n",
    "\n",
    "# 定义网络结构   \n",
    "weight = tf.Variable(tf.truncated_normal((2,1), stddev=0.1))\n",
    "bias = tf.Variable(tf.truncated_normal((1,), stddev=0.1))\n",
    "pred_y = tf.matmul(input_, weight) + bias\n",
    "\n",
    "# 定义损失函数\n",
    "mse_loss = tf.reduce_mean(tf.losses.mean_squared_error(\n",
    "            labels=y_, predictions=pred_y))\n",
    "\n",
    "# 设置训练参数\n",
    "TRAIN_RATE = 0.01\n",
    "TRAIN_RATE_DELAY = 0.99\n",
    "BATCH_SIZE = 64\n",
    "ITER = 10000  \n",
    "\n",
    "# 设置优化器\n",
    "global_step = tf.Variable(0, trainable=False)\n",
    "learn_rate = tf.train.exponential_decay(TRAIN_RATE, global_step, 10, TRAIN_RATE_DELAY)\n",
    "train_step = tf.train.AdamOptimizer(learn_rate).minimize(mse_loss, global_step=global_step)\n",
    "\n",
    "# 数据读入接口\n",
    "def getTrainData(batch_size):\n",
    "    train_x = np.random.randn(batch_size, 2)\n",
    "    # 2𝑥_1+3𝑥_2+4\n",
    "    train_y = np.matmul(train_x, np.array([[2], [3]])) + 4\n",
    "    return train_x, train_y\n",
    "\n",
    "# 迭代更新模型\n",
    "sess = tf.Session()\n",
    "sess.run(tf.global_variables_initializer())\n",
    "for i in range(ITER):\n",
    "    train_x, train_y = getTrainData(BATCH_SIZE)\n",
    "    _, loss_ = sess.run([train_step, mse_loss], feed_dict={input_:train_x, y_:train_y})\n",
    "\n",
    "    if i % 1000 == 0:\n",
    "        weight_, bias_ = sess.run([weight, bias])\n",
    "        print('第%d步mse损失为：%f'%(i, loss_), '     w_1为 %f ,w_2为 %f , b为 %f'%(weight_[0], weight_[1], bias_))\n",
    "        print()\n",
    "\n",
    "# 测试结果\n",
    "test_x = np.array([[2, 4]])\n",
    "pred = sess.run(pred_y, feed_dict={input_:test_x})\n",
    "print('2*' + str(test_x[0][0]) + ' + 3*' + str(test_x[0][1]) + ' + 4 = ' + str(pred[0][0]))\n",
    "                \n",
    "\n"
   ]
  }
 ],
 "metadata": {
  "kernelspec": {
   "display_name": "Python 3",
   "language": "python",
   "name": "python3"
  },
  "language_info": {
   "codemirror_mode": {
    "name": "ipython",
    "version": 3
   },
   "file_extension": ".py",
   "mimetype": "text/x-python",
   "name": "python",
   "nbconvert_exporter": "python",
   "pygments_lexer": "ipython3",
   "version": "3.7.0"
  }
 },
 "nbformat": 4,
 "nbformat_minor": 2
}
